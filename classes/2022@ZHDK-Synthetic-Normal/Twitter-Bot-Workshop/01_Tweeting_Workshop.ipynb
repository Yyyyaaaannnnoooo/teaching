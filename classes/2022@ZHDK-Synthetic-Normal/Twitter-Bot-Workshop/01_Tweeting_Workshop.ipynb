{
  "cells": [
    {
      "cell_type": "markdown",
      "metadata": {
        "colab_type": "text",
        "id": "view-in-github"
      },
      "source": [
        "<a href=\"https://colab.research.google.com/github/kratadata/Algorithmica/blob/main/Tweeting_Workshop.ipynb\" target=\"_parent\"><img src=\"https://colab.research.google.com/assets/colab-badge.svg\" alt=\"Open In Colab\"/></a>"
      ]
    },
    {
      "cell_type": "markdown",
      "metadata": {
        "id": "tu658otthKYg"
      },
      "source": [
        "# Create a Twitter Bot\n",
        "\n",
        "1. go to: https://developer.twitter.com\n",
        "2. register a new app in the `Projects & Apps` section. Be aware to register a standalone app and not a project\n",
        "3. After this you should get the API keys, the next move is to generate the `ACCESS TOKENS` \n",
        "4. go to your app and click on `Keys and tokens` tab. In the `Authentication Tokens` click the `generate` button for Access Token and Secret\n",
        "5. Next step is to set up the authentication, in the App details `Settings` tab click the `Set up` button\n",
        "6. Set `App permissions` to Read and write and `Type of App` to Web App, Automated App or Bot. Than set the `App info`: Callback URI to `https://twitter.com` Website url to your own website domain if you have any\n",
        "7. save somewhere the CLIENT TOKENS\n",
        "8. regenerate the `ACCESS TOKENS` as in step `3`\n",
        "\n",
        "\n",
        "\n"
      ]
    },
    {
      "cell_type": "code",
      "execution_count": null,
      "metadata": {
        "colab": {
          "base_uri": "https://localhost:8080/"
        },
        "id": "epKZTy9ZgBnW",
        "outputId": "d8f06085-14ff-4fed-8f41-735e433b7ef9"
      },
      "outputs": [],
      "source": [
        "# @title Install dependencies\n",
        "!pip install tweepy==4.12.1"
      ]
    },
    {
      "cell_type": "code",
      "execution_count": null,
      "metadata": {
        "id": "n8_Uf0-F2vuB"
      },
      "outputs": [],
      "source": [
        "# @title Import the library\n",
        "\n",
        "import tweepy\n",
        "from tweepy.auth import OAuthHandler"
      ]
    },
    {
      "cell_type": "code",
      "execution_count": null,
      "metadata": {
        "id": "sHMllVIk4q9_"
      },
      "outputs": [],
      "source": [
        "# @title Authenticate with secret Tokens credentials\n",
        "API_KEY = '*'\n",
        "API_KEY_SECRET = '*'\n",
        "ACCESS_TOKEN = '*'\n",
        "ACCESS_TOKEN_SECRET = '*'\n",
        "\n",
        "auth = OAuthHandler(API_KEY, API_KEY_SECRET)\n",
        "auth.set_access_token(ACCESS_TOKEN, ACCESS_TOKEN_SECRET)\n",
        "\n",
        "api = tweepy.API(auth)"
      ]
    },
    {
      "cell_type": "code",
      "execution_count": null,
      "metadata": {
        "colab": {
          "base_uri": "https://localhost:8080/"
        },
        "id": "IzZEpV47VPVJ",
        "outputId": "d575cafe-956d-41aa-9f28-71fa026d410c"
      },
      "outputs": [],
      "source": [
        "# @title Retrieve Public tweets from own timeline\n",
        "public_tweets = api.home_timeline()\n",
        "for tweet in public_tweets:\n",
        "    print(tweet.text)"
      ]
    },
    {
      "cell_type": "code",
      "execution_count": null,
      "metadata": {
        "colab": {
          "base_uri": "https://localhost:8080/"
        },
        "id": "jmN7znja77p4",
        "outputId": "0cf06d81-15db-469f-9b02-114552f90442"
      },
      "outputs": [],
      "source": [
        "# @title Search for tweets given a query\n",
        "\n",
        "query = 'apple'\n",
        "result = api.search_tweets(query)\n",
        "\n",
        "for tweet in result:\n",
        "  print(tweet.text)\n",
        "  print(tweet.id)\n"
      ]
    },
    {
      "cell_type": "markdown",
      "metadata": {
        "id": "6DSuNXaIWIR7"
      },
      "source": [
        "## Posting a Tweet\n",
        "\n",
        "`api.update_status(status, *, in_reply_to_status_id, auto_populate_reply_metadata, exclude_reply_user_ids, attachment_url, media_ids, possibly_sensitive, lat, long, place_id, display_coordinates, trim_user, card_uri)`\n",
        "\n",
        "### `Parameters`\n",
        "\n",
        "`status` – The text of your status update. <= !! this is probably the only one needed !!\n",
        "\n",
        "`in_reply_to_status_id` – The ID of an existing status that the update is in reply to. Note: This parameter will be ignored unless the author of the Tweet this parameter references is mentioned within the status text. Therefore, you must include @username, where username is the author of the referenced Tweet, within the update.\n",
        "\n",
        "`auto_populate_reply_metadata` – If set to true and used with in_reply_to_status_id, leading @mentions will be looked up from the original Tweet, and added to the new Tweet from there. This wil append @mentions into the metadata of an extended Tweet as a reply chain grows, until the limit on @mentions is reached. In cases where the original Tweet has been deleted, the reply will fail.\n",
        "\n",
        "`exclude_reply_user_ids` – When used with auto_populate_reply_metadata, a comma-separated list of user ids which will be removed from the server-generated @mentions prefix on an extended Tweet. Note that the leading @mention cannot be removed as it would break the in-reply-to-status-id semantics. Attempting to remove it will be silently ignored.\n",
        "\n",
        "`attachment_url` – In order for a URL to not be counted in the status body of an extended Tweet, provide a URL as a Tweet attachment. This URL must be a Tweet permalink, or Direct Message deep link. Arbitrary, non-Twitter URLs must remain in the status text. URLs passed to the attachment_url parameter not matching either a Tweet permalink or Direct Message deep link will fail at Tweet creation and cause an exception.\n",
        "\n",
        "`media_ids` – A list of media_ids to associate with the Tweet. You may include up to 4 photos or 1 animated GIF or 1 video in a Tweet.\n",
        "\n",
        "`possibly_sensitive` – If you upload Tweet media that might be considered sensitive content such as nudity, or medical procedures, you must set this value to true.\n",
        "\n",
        "`lat`– The latitude of the location this Tweet refers to. This parameter will be ignored unless it is inside the range -90.0 to +90.0 (North is positive) inclusive. It will also be ignored if there is no corresponding long parameter.\n",
        "\n",
        "`long` – The longitude of the location this Tweet refers to. The valid ranges for longitude are -180.0 to +180.0 (East is positive) inclusive. This parameter will be ignored if outside that range, if it is not a number, if geo_enabled is disabled, or if there no corresponding lat parameter.\n",
        "\n",
        "`place_id` – A place in the world.\n",
        "\n",
        "`display_coordinates` – Whether or not to put a pin on the exact coordinates a Tweet has been sent from.\n",
        "\n",
        "`trim_user` – A boolean indicating if user IDs should be provided, instead of complete user objects. Defaults to False.\n",
        "\n",
        "`card_uri` – Associate an ads card with the Tweet using the card_uri value from any ads card response.\n",
        "\n",
        "Sources:\n",
        "- https://docs.tweepy.org/en/stable/api.html#tweepy.API.update_status\n",
        "- https://developer.twitter.com/en/docs/twitter-api/v1/tweets/post-and-engage/api-reference/post-statuses-update"
      ]
    },
    {
      "cell_type": "code",
      "execution_count": null,
      "metadata": {
        "id": "QxyDInRBVs8L"
      },
      "outputs": [],
      "source": [
        "# @title Post a Tweet\n",
        "\n",
        "api.update_status('tweeted from colab')"
      ]
    },
    {
      "cell_type": "markdown",
      "metadata": {
        "id": "LIAXsTHSYHce"
      },
      "source": [
        "## Posting an Image\n",
        "\n",
        "`api.update_status_with_media(status, filename, *, file, possibly_sensitive, in_reply_to_status_id, lat, long, place_id, display_coordinates)`\n",
        "\n",
        "### `Parameters:`\n",
        "\n",
        "`status` – The text of your status update.\n",
        "\n",
        "`filename` – The filename of the image to upload. This will automatically be opened unless file is specified.\n",
        "\n",
        "`file` – A file object, which will be used instead of opening filename. filename is still required, for MIME type detection and to use as a form field in the POST data.\n",
        "\n",
        "`possibly_sensitive` – Set to true for content which may not be suitable for every audience.\n",
        "\n",
        "`in_reply_to_status_id` – The ID of an existing status that the update is in reply to.\n",
        "\n",
        "`lat` – The location’s latitude that this tweet refers to.\n",
        "\n",
        "`long` – The location’s longitude that this tweet refers to.\n",
        "\n",
        "`place_id` – Twitter ID of location which is listed in the Tweet if geolocation is enabled for the user.\n",
        "\n",
        "`display_coordinates` – Whether or not to put a pin on the exact coordinates a Tweet has been sent from.\n",
        "\n",
        "\n",
        "\n",
        "Sources:\n",
        "- https://docs.tweepy.org/en/stable/api.html#tweepy.API.update_status_with_media\n",
        "- https://developer.twitter.com/en/docs/twitter-api/v1/tweets/post-and-engage/api-reference/post-statuses-update_with_media"
      ]
    },
    {
      "cell_type": "code",
      "execution_count": null,
      "metadata": {
        "colab": {
          "base_uri": "https://localhost:8080/"
        },
        "id": "ettud3oeXRie",
        "outputId": "1b10affd-3aea-4703-917c-2a634949d087"
      },
      "outputs": [],
      "source": [
        "# @title Post an Image\n",
        "# upload images to the sample_data folder\n",
        "\n",
        "\n",
        "api.update_status_with_media('tweeted an image from colab', 'sample_data/screen.png')"
      ]
    },
    {
      "cell_type": "markdown",
      "metadata": {
        "id": "VeSczA6i-x9t"
      },
      "source": [
        "## Stream Tweets (might not always work)\n",
        "\n",
        "⚠️⚠️⚠️ ATTENZIONE ⚠️⚠️⚠️\n",
        "\n",
        "This will very quickly burn all your credits, therefore use with care "
      ]
    },
    {
      "cell_type": "code",
      "execution_count": null,
      "metadata": {
        "colab": {
          "base_uri": "https://localhost:8080/",
          "height": 674
        },
        "id": "pibfX48fZpW0",
        "outputId": "201a04f7-6c2b-4918-9796-a43ee7a9982b"
      },
      "outputs": [],
      "source": [
        "# @title Stream tweets\n",
        "\n",
        "limit = 0\n",
        "\n",
        "BEARER_TOKEN = '*'\n",
        "\n",
        "class TwitterStreamer(tweepy.StreamingClient):\n",
        "  def on_tweet(self, tweet):\n",
        "    global limit\n",
        "    status_var = \"\\\"\" + tweet.text + \"\\\"\"\n",
        "    print(tweet.text)\n",
        "    limit+=1\n",
        "    if limit >=10:\n",
        "      raise KeyboardInterrupt\n",
        "  \n",
        "  def on_errors(self, errors):\n",
        "    print(f\"Received error code {errors}\")\n",
        "    self.disconnect()\n",
        "    return False\n",
        "\n",
        "\n",
        "streamer = TwitterStreamer(BEARER_TOKEN)\n",
        "streamer.add_rules(tweepy.StreamRule(\"apple lang:en\"))\n",
        "streamer.filter()\n",
        "\n",
        "\n"
      ]
    },
    {
      "cell_type": "markdown",
      "metadata": {
        "id": "strv4rprJFGr"
      },
      "source": [
        "# TO DO in class:\n",
        "- search the web for sentences to be used as tweets, make them into a json to be used programmatically\n",
        "- generate random images with python and post them to the own twitter account\n",
        "- create a retweet for every tweet matching a search query"
      ]
    },
    {
      "cell_type": "code",
      "execution_count": null,
      "metadata": {
        "id": "fSpQoQz6Aycl"
      },
      "outputs": [],
      "source": []
    }
  ],
  "metadata": {
    "colab": {
      "include_colab_link": true,
      "provenance": []
    },
    "kernelspec": {
      "display_name": "Python 3",
      "name": "python3"
    },
    "language_info": {
      "name": "python"
    }
  },
  "nbformat": 4,
  "nbformat_minor": 0
}
