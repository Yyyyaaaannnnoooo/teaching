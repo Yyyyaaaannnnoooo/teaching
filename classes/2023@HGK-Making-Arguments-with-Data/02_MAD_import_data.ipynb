{
  "cells": [
    {
      "attachments": {},
      "cell_type": "markdown",
      "metadata": {
        "id": "m1TsiS1mJQmL"
      },
      "source": [
        "## TO DO\n",
        "* [x] add save functionality for colab integration from [here](https://docs.bokeh.org/en/latest/docs/reference/io.html#bokeh.io.save)\n",
        "* [x] make projecting the other datasets possible\n",
        "* [x] make downloadable csv files from SOM and DataFrames to be used in JS or other frameworks\n",
        "* [ ] Add more Pandas filtering methods like [queries](https://datagy.io/pandas-query/), see documentation [here](https://pandas.pydata.org/docs/reference/api/pandas.DataFrame.query.html)"
      ]
    },
    {
      "attachments": {},
      "cell_type": "markdown",
      "metadata": {
        "id": "KL-xWvxSwAqq"
      },
      "source": [
        "[Colab Notebook](https://colab.research.google.com/drive/1rlgOJ6TXEM3WIlfeCmgb-h3wvkZ_xxEZ#scrollTo=KL-xWvxSwAqq)"
      ]
    },
    {
      "cell_type": "code",
      "execution_count": null,
      "metadata": {
        "colab": {
          "base_uri": "https://localhost:8080/"
        },
        "id": "_2ox5gcHFT-B",
        "outputId": "4035cb1f-6c18-4fbc-ffed-a7d1cbb44cee"
      },
      "outputs": [],
      "source": [
        "!pip install susi"
      ]
    },
    {
      "attachments": {},
      "cell_type": "markdown",
      "metadata": {
        "id": "2ZfgfrFlTEpd"
      },
      "source": [
        "## Add .pkl files to your own GDrive"
      ]
    },
    {
      "cell_type": "code",
      "execution_count": null,
      "metadata": {
        "colab": {
          "base_uri": "https://localhost:8080/"
        },
        "id": "63rbCh_MK3yh",
        "outputId": "cb275c48-0886-4a62-a08c-1e9706b73e1b"
      },
      "outputs": [],
      "source": [
        "from google.colab import drive\n",
        "drive.mount(\"/content/drive\")"
      ]
    },
    {
      "attachments": {},
      "cell_type": "markdown",
      "metadata": {
        "id": "MNw7EWC0Swif"
      },
      "source": [
        "## Getting the right PATH\n",
        "When your GDrive is loaded, find the folder containing the .pkl files that were provided. Than right click the folder containing it and select `Copy path`.\n",
        "Paste it in the cell below replacing the path that follows the `%cd` command"
      ]
    },
    {
      "cell_type": "code",
      "execution_count": null,
      "metadata": {
        "colab": {
          "base_uri": "https://localhost:8080/"
        },
        "id": "x0p21HMrSMXU",
        "outputId": "85a4e0e7-8d72-4674-a39b-fd5664fd46e6"
      },
      "outputs": [],
      "source": [
        "%cd /content/drive/MyDrive/Colab Notebooks/MAWD/mad-pickles\n",
        "!ls"
      ]
    },
    {
      "cell_type": "code",
      "execution_count": null,
      "metadata": {
        "id": "BeUAXgSDG56z"
      },
      "outputs": [],
      "source": [
        "import numpy as np\n",
        "import matplotlib.pyplot as plt\n",
        "import math\n",
        "import susi\n",
        "import json\n",
        "import pickle\n",
        "import requests\n",
        "import pandas as pd\n",
        "from susi.SOMPlots import plot_nbh_dist_weight_matrix, plot_umatrix, plot_estimation_map, plot_som_histogram\n",
        "from bokeh.models import ColumnDataSource, LabelSet\n",
        "from bokeh.plotting import figure, show, output_file, save\n",
        "from bokeh.io import output_notebook\n",
        "output_notebook()"
      ]
    },
    {
      "attachments": {},
      "cell_type": "markdown",
      "metadata": {
        "id": "jh5JUUx9JQmF"
      },
      "source": [
        "# Import Datasets"
      ]
    },
    {
      "cell_type": "code",
      "execution_count": null,
      "metadata": {
        "id": "wmzkoRTeJQmH"
      },
      "outputs": [],
      "source": [
        "radio_data_path = 'radio.pkl'\n",
        "fma_data_path = 'fma.pkl'\n",
        "xenocanto_data_path = 'xenocanto.pkl'\n",
        "\n",
        "radio_data = pickle.load(open(radio_data_path, 'rb'))\n",
        "# /\\.\\/(\\w*?)\\//g\n",
        "data_length = len(radio_data['features'])\n",
        "radio_data['known'] = ['NaN'] * data_length\n",
        "index = 0\n",
        "for path in radio_data['Sample_audio']:\n",
        "    if './known/' in path:\n",
        "       radio_data['known'][index] = 'known'\n",
        "    else:\n",
        "        radio_data['known'][index] = 'unknown'\n",
        "    index+=1\n",
        "\n",
        "fma_data = pickle.load(open(fma_data_path, 'rb'))\n",
        "\n",
        "xenocanto_data = pickle.load(open(xenocanto_data_path, 'rb'))\n",
        "\n",
        "datasets = {\n",
        "    \"fma\": fma_data,\n",
        "    \"radio\": radio_data,\n",
        "    \"xenocanto\": xenocanto_data,\n",
        "}"
      ]
    },
    {
      "cell_type": "code",
      "execution_count": null,
      "metadata": {
        "id": "lUYbW3lRa5b7"
      },
      "outputs": [],
      "source": [
        "fma_data.mfcc = [item.tolist() for item in fma_data.mfcc]\n",
        "print(type(fma_data.mfcc[0]))"
      ]
    },
    {
      "cell_type": "code",
      "execution_count": null,
      "metadata": {
        "colab": {
          "base_uri": "https://localhost:8080/"
        },
        "id": "fWC-HJpuoFMu",
        "outputId": "809d92bd-39c2-4d65-abe4-f5590aedaa2c"
      },
      "outputs": [],
      "source": [
        "# @title Choose the data you want to work with\n",
        "# @markdown `You can select between FMA, Xenocanto and Radio`\n",
        "selector = \"fma\" # @param [\"fma\", \"radio\", \"xenocanto\"]\n",
        "current_df = datasets[selector]\n",
        "data_length = len(current_df)\n",
        "train_amount = math.floor(len(current_df) / 4) * 3\n",
        "current_df_train = current_df.loc[0:train_amount-1]\n",
        "train_data = current_df.loc[0:train_amount-1]\n",
        "print(len(train_data))\n",
        "train_data = [np.ravel(item) for item in train_data['mfcc']]\n",
        "print(len(train_data))\n",
        "test_data = current_df.loc[train_amount:data_length-1]\n",
        "current_df_test = current_df.loc[train_amount:data_length-1]\n",
        "print(len(test_data))\n",
        "test_data = [np.ravel(item) for item in test_data['mfcc']]\n",
        "print(len(test_data))\n",
        "\n"
      ]
    },
    {
      "cell_type": "code",
      "execution_count": null,
      "metadata": {
        "colab": {
          "base_uri": "https://localhost:8080/"
        },
        "id": "C6uDa106JQmI",
        "outputId": "ce1c0d05-0416-4eaf-9251-0530c52b8419"
      },
      "outputs": [],
      "source": [
        "#@markdown ### `5 * sqrt(number of training samples)`\n",
        "#@markdown this returns \"ideal\" grid size\n",
        "\n",
        "#@markdown but can be changed to try out\n",
        "\n",
        "train_data_length = len(train_data)\n",
        "\n",
        "# for d in train_data:\n",
        "#     print(d.shape)\n",
        "# 5 * sqrt(number of training samples)\n",
        "grid = math.ceil(5 * math.sqrt(train_data_length))\n",
        "grid = math.floor(math.sqrt(grid))\n",
        "print(grid)"
      ]
    },
    {
      "attachments": {},
      "cell_type": "markdown",
      "metadata": {
        "id": "vATjrDxocYaS"
      },
      "source": [
        "# Train the SOM\n",
        "\n",
        "`If you want to use pre-trained SOM skip to the` [Load SOM](#scrollTo=GZrbxyFIJQmI) `cell`"
      ]
    },
    {
      "cell_type": "code",
      "execution_count": null,
      "metadata": {
        "id": "LDTtY36G6he_"
      },
      "outputs": [],
      "source": [
        "# @markdown `Set the number of iterations the SOM should execute`\n",
        "iterations = 10000 # @param {type:\"number\"}\n",
        "som = susi.SOMClustering(\n",
        "    n_rows=grid,\n",
        "    n_columns=grid,\n",
        "    n_iter_unsupervised=iterations\n",
        ")\n",
        "som.fit(train_data)\n",
        "# print(\"SOM fitted!\")"
      ]
    },
    {
      "cell_type": "code",
      "execution_count": null,
      "metadata": {
        "id": "O7P-H4yYJQmI"
      },
      "outputs": [],
      "source": [
        "#@title Saving SOM { display-mode: \"form\" }\n",
        "#@markdown use the following cell to save the som to your GDrive. Do not forget the `.pkl` extension, and make sure your runtime did not disconnect.\n",
        "som_fma = som\n",
        "filename = 'what_a_som.pkl' #@param {type:\"string\"}\n",
        "with open(filename, 'wb') as _file:\n",
        "    pickle.dump(som_fma, _file)"
      ]
    },
    {
      "attachments": {},
      "cell_type": "markdown",
      "metadata": {
        "id": "GZrbxyFIJQmI"
      },
      "source": [
        "## Load SOM"
      ]
    },
    {
      "cell_type": "code",
      "execution_count": null,
      "metadata": {
        "id": "t7Oy0PHAJQmI"
      },
      "outputs": [],
      "source": [
        "#@markdown `Be sure to be in the correct folder!`\n",
        "som_path = 'som_fma.pkl' #@param {type: \"string\"}\n",
        "som = pickle.load(open(som_path, 'rb'))"
      ]
    },
    {
      "attachments": {},
      "cell_type": "markdown",
      "metadata": {
        "id": "9icLFq0PfWSl"
      },
      "source": [
        "## Show SOM"
      ]
    },
    {
      "cell_type": "code",
      "execution_count": null,
      "metadata": {
        "colab": {
          "base_uri": "https://localhost:8080/",
          "height": 530
        },
        "id": "V9VOctEaJQmI",
        "outputId": "767c8bb5-437e-4e80-8d4f-1a7705c2af8a"
      },
      "outputs": [],
      "source": [
        "u_matrix = som.get_u_matrix()\n",
        "plot_umatrix(u_matrix, grid, grid)\n",
        "plt.show()"
      ]
    },
    {
      "cell_type": "code",
      "execution_count": null,
      "metadata": {
        "colab": {
          "base_uri": "https://localhost:8080/",
          "height": 430
        },
        "id": "6X3c5Ha8JQmJ",
        "outputId": "4c46dee3-6e8b-4503-da2e-7ad7412f26c6"
      },
      "outputs": [],
      "source": [
        "y = ['#1f77b4', '#ff7f0e', '#2ca02c', '#d62728', '#9467bd', '#8c564b', '#e377c2', '#7f7f7f', '#bcbd22', '#17becf']\n",
        "clusters = som.get_clusters(np.asarray(test_data[0:100]))\n",
        "plt.scatter(x=[c[1] for c in clusters], y=[c[0] for c in clusters], alpha=0.2)\n",
        "plt.gca().invert_yaxis()\n",
        "plt.show()"
      ]
    },
    {
      "cell_type": "code",
      "execution_count": null,
      "metadata": {
        "id": "JHJTT7-9JQmJ"
      },
      "outputs": [],
      "source": [
        "# @title Preparing data for customized node visualization  { display-mode: \"form\" }\n",
        "# @markdown\n",
        "data_from_node = []\n",
        "for x in range(grid):\n",
        "    for y in range(grid):\n",
        "        obj = {\"x\": x, \"y\": y}\n",
        "        data = som.get_datapoints_from_node((x, y))\n",
        "        obj[\"data\"] = data\n",
        "        obj[\"val\"] = len(data)\n",
        "        data_from_node.append(obj)\n",
        "\n",
        "\n",
        "def get_min_max(data):\n",
        "    values_arr = [x[\"val\"] for x in data]\n",
        "    minimum = min(values_arr)\n",
        "    maximum = max(values_arr)\n",
        "    avg = np.average(values_arr)\n",
        "    return [minimum, maximum, avg]\n",
        "\n",
        "\n",
        "# from https://stackoverflow.com/questions/1969240/mapping-a-range-of-values-to-another\n",
        "def map(value, original_min, original_max, mapped_min, mapped_max):\n",
        "    # Figure out how 'wide' each range is\n",
        "    leftSpan = original_max - original_min\n",
        "    rightSpan = mapped_max - mapped_min\n",
        "\n",
        "    # Convert the left range into a 0-1 range (float)\n",
        "    valueScaled = float(value - original_min) / float(leftSpan)\n",
        "\n",
        "    # Convert the 0-1 range into a value in the right range.\n",
        "    return round(mapped_min + (valueScaled * rightSpan))\n",
        "\n",
        "\n",
        "def clamp(n, smallest, largest):\n",
        "    return max(smallest, min(n, largest))\n",
        "\n",
        "\n",
        "\n",
        "def make_color_palette(data):\n",
        "    minmax = get_min_max(data)\n",
        "    length = len(data)\n",
        "    for i in range(length):\n",
        "        item = data[i]\n",
        "        r = map(item[\"val\"], minmax[0], minmax[2], 0, 155)\n",
        "        r = clamp(r, 0, 255)\n",
        "        g = clamp(map(item[\"val\"], minmax[0], minmax[2], 0, 155), 0, 255)\n",
        "        b = clamp(map(item[\"val\"], minmax[0], minmax[2], 100, 255), 0, 255)\n",
        "        color = \"#%02x%02x%02x\" % (r, g, b)\n",
        "        item[\"color-hex\"] = color\n",
        "        color = [r / 255, g / 255, b / 255]\n",
        "        item[\"color-rgb\"] = color\n",
        "\n",
        "\n",
        "make_color_palette(data_from_node)\n"
      ]
    },
    {
      "cell_type": "code",
      "execution_count": null,
      "metadata": {
        "colab": {
          "base_uri": "https://localhost:8080/"
        },
        "id": "boM76AvMhk5x",
        "outputId": "0373d36b-ba41-4310-8390-40ed1795dec2"
      },
      "outputs": [],
      "source": [
        "# @title List all the Columns of Dataset { display-mode: \"form\" }\n",
        "current_df.columns.values.tolist()"
      ]
    },
    {
      "cell_type": "code",
      "execution_count": null,
      "metadata": {
        "colab": {
          "base_uri": "https://localhost:8080/"
        },
        "id": "6Jy7dOwfh_F0",
        "outputId": "82b0c413-484e-4d21-881c-f30dfaa50009"
      },
      "outputs": [],
      "source": [
        "# @title Prepare data given the field to investigate { display-mode: \"form\" }\n",
        "field = \"Genre\" # @param {type:\"string\"}\n",
        "fields = current_df_test[field].unique().tolist()\n",
        "\n",
        "field_visualizations = {}\n",
        "\n",
        "for item in fields:\n",
        "  field_visualizations[item] = []\n",
        "\n",
        "for key in field_visualizations:\n",
        "  print(key)\n",
        "  for item in data_from_node:\n",
        "    for index in item['data']:\n",
        "      genre = current_df[field].loc[index]\n",
        "      if genre == key:\n",
        "        temp_obj = {\n",
        "            \"x\": item[\"x\"],\n",
        "            \"y\": item[\"y\"],\n",
        "            \"loc\": [int(item[\"x\"]), int(item[\"y\"])],\n",
        "            \"index\": index\n",
        "        }\n",
        "        field_visualizations[key].append(temp_obj)\n",
        "print(field_visualizations)"
      ]
    },
    {
      "cell_type": "code",
      "execution_count": null,
      "metadata": {
        "colab": {
          "base_uri": "https://localhost:8080/",
          "height": 1000
        },
        "id": "mS3zUv1Fl9l-",
        "outputId": "dd769471-95ba-432d-f2b7-dabc31a14d8e"
      },
      "outputs": [],
      "source": [
        "# @title Display where the fields cluster\n",
        "fig, axs = plt.subplots(len(fields), figsize=(4,4 * len(fields) ))\n",
        "\n",
        "for i in range(len(fields)):\n",
        "  field = fields[i]\n",
        "  data = field_visualizations[field]\n",
        "  X = [x['x'] for x in data]\n",
        "  Y = [x['y'] for x in data]\n",
        "  axs[i].scatter(X, Y)\n",
        "  axs[i].set_title(field)"
      ]
    },
    {
      "cell_type": "code",
      "execution_count": null,
      "metadata": {
        "id": "VRYsMYXU5O2h"
      },
      "outputs": [],
      "source": []
    },
    {
      "attachments": {},
      "cell_type": "markdown",
      "metadata": {
        "id": "QCJfeQLbJQmK"
      },
      "source": [
        "# Visualizing the SOM using Bokeh"
      ]
    },
    {
      "cell_type": "code",
      "execution_count": null,
      "metadata": {
        "colab": {
          "base_uri": "https://localhost:8080/"
        },
        "id": "kn-D3Oi9rIM3",
        "outputId": "7d70e91d-a453-4102-bcd2-e3d83f18074a"
      },
      "outputs": [],
      "source": [
        "# @title update dataframe\n",
        "projection = som.transform(test_data)\n",
        "X = [x[0] for x in projection]\n",
        "Y = [x[1] for x in projection]\n",
        "\n",
        "current_df_test['proj_x'] = X\n",
        "current_df_test['proj_y'] = Y\n",
        "proj = [[x[0], x[1]] for x in projection]\n",
        "current_df_test['proj'] = proj"
      ]
    },
    {
      "cell_type": "code",
      "execution_count": null,
      "metadata": {
        "colab": {
          "base_uri": "https://localhost:8080/"
        },
        "id": "Qjm0nTrMtose",
        "outputId": "9dd773ed-98e7-44ed-cf17-ec715cf58a20"
      },
      "outputs": [],
      "source": [
        "# @title Save Updated DataFrame as .csv file\n",
        "csv_filename = selector + \"_\" + field + \"_projected_data.csv\"\n",
        "print(csv_filename)\n",
        "current_df_test.to_csv(csv_filename)"
      ]
    },
    {
      "cell_type": "code",
      "execution_count": null,
      "metadata": {
        "cellView": "form",
        "id": "wEzqNyNdJQmK"
      },
      "outputs": [],
      "source": [
        "# @title skip this DEPRECATED!\n",
        "# extract all the nodes given the genres\n",
        "# .drop_duplicates(subset=['brand'])\n",
        "field = \"Genre\"\n",
        "unique_values = current_df_test[field].unique()\n",
        "projection_df = pd.DataFrame(columns=current_df_test.columns.to_list())\n",
        "print(projection_df)\n",
        "for value in unique_values:\n",
        "    temp = current_df_test.loc[current_df_test[field] == value]\n",
        "    temp = temp.drop_duplicates(subset=['proj'])\n",
        "    projection_df = pd.concat([projection_df, temp], ignore_index=True)\n"
      ]
    },
    {
      "cell_type": "code",
      "execution_count": null,
      "metadata": {
        "id": "qRTqblOpJQmK"
      },
      "outputs": [],
      "source": [
        "# @title Build Color palette utility { display-mode: \"form\" }\n",
        "# @markdown This few line of code are used to build color palette\n",
        "import random\n",
        "def build_color_palette(unique):\n",
        "    result = {}\n",
        "    for name in unique:\n",
        "        if type(name).__name__ != 'str':\n",
        "          if math.isnan(float(name)):\n",
        "            name = \"Unknown\"\n",
        "        # Generating a random number in between 0 and 2^24\n",
        "        color = random.randrange(0, 2**24)\n",
        "        # Converting that number from base-10 (decimal) to base-16 (hexadecimal)\n",
        "        hex_color = hex(color)\n",
        "        std_color = \"#\" + hex_color[2:]\n",
        "        result[name] = std_color\n",
        "    print(result)\n",
        "    return result\n",
        "\n",
        "def assign_colors(df, palette, header):\n",
        "    colors = []\n",
        "    for item in df[header]: #this needs to be set in a variable\n",
        "        if type(item).__name__ != 'str':\n",
        "          if math.isnan(float(item)):\n",
        "            item = \"Unknown\"\n",
        "        color = palette[item]\n",
        "        colors.append(color)\n",
        "    df['colors'] = colors\n"
      ]
    },
    {
      "cell_type": "code",
      "execution_count": null,
      "metadata": {
        "colab": {
          "base_uri": "https://localhost:8080/"
        },
        "id": "bV8h4tCzy0uc",
        "outputId": "1a259194-d290-4055-c1b6-28ee3056008f"
      },
      "outputs": [],
      "source": [
        "# @title List all the Columns of Dataset { display-mode: \"form\" }\n",
        "current_df_test.columns.values.tolist()"
      ]
    },
    {
      "cell_type": "code",
      "execution_count": null,
      "metadata": {
        "colab": {
          "base_uri": "https://localhost:8080/"
        },
        "id": "cnQfiforJQmK",
        "outputId": "cc4478e1-38f7-4c55-e05d-644d35c669af"
      },
      "outputs": [],
      "source": [
        "# @title Select the field that will be displayed in the visualization\n",
        "field = \"Genre\" #@param {type: \"string\"}\n",
        "unique_values = current_df_test[field].unique()\n",
        "print(len(unique_values))\n",
        "palette = build_color_palette(unique_values)\n",
        "assign_colors(current_df_test, palette, field)"
      ]
    },
    {
      "cell_type": "code",
      "execution_count": null,
      "metadata": {
        "colab": {
          "base_uri": "https://localhost:8080/"
        },
        "id": "8HNjrUfTxqYH",
        "outputId": "9845ca13-d23a-4d36-ccb7-0e0a8b9e9381"
      },
      "outputs": [],
      "source": [
        "# @title List all the unique values of the selected field of the Dataset { display-mode: \"form\" }\n",
        "current_df_test[field].unique().tolist()"
      ]
    },
    {
      "cell_type": "code",
      "execution_count": null,
      "metadata": {
        "id": "W7uDv-B4r0Tp"
      },
      "outputs": [],
      "source": [
        "# @title Make test data based on single category { display-mode: \"form\" }\n",
        "category = 'Rock' #@param {type:\"string\"}\n",
        "test_data = current_df_test.loc[current_df_test[field] == category]"
      ]
    },
    {
      "cell_type": "code",
      "execution_count": null,
      "metadata": {
        "colab": {
          "base_uri": "https://localhost:8080/"
        },
        "id": "suHqEO2o91U0",
        "outputId": "fc5403d0-8fe5-4b1e-e8a2-da090a05be70"
      },
      "outputs": [],
      "source": [
        "# @title Make test data based on multiple categories { display-mode: \"form\" }\n",
        "# @markdown `please insert the values seprated by a space \" \"`\n",
        "category = 'Rock Instrumental Folk' #@param {type:\"string\"}\n",
        "category = category.split()\n",
        "print(category)\n",
        "test_data = current_df_test.loc[current_df_test[field].isin(category)]"
      ]
    },
    {
      "cell_type": "code",
      "execution_count": null,
      "metadata": {
        "colab": {
          "base_uri": "https://localhost:8080/"
        },
        "id": "QYNlkPGvs-Gy",
        "outputId": "7ea7151b-be0a-4015-fa42-7a57cfc544ff"
      },
      "outputs": [],
      "source": [
        "# @title Make test data based on rows from the test dataset { display-mode: \"form\" }\n",
        "# @markdown `depending on the dataset you might have smaller boundaries`\n",
        "\n",
        "# @markdown `so to say less than 199 datapoints`\n",
        "start = 0 #@param {type:\"number\"}\n",
        "end = 199 #@param {type:\"number\"}\n",
        "if end > 999:\n",
        "  end = 999\n",
        "print(end)\n",
        "test_data = current_df_test.loc[train_amount + start:train_amount + end]"
      ]
    },
    {
      "cell_type": "code",
      "execution_count": null,
      "metadata": {
        "colab": {
          "base_uri": "https://localhost:8080/",
          "height": 36
        },
        "id": "zFf7HCqipTPT",
        "outputId": "9ef45f9c-c933-41d6-c6f4-123da4b64bb0"
      },
      "outputs": [],
      "source": [
        "# @title Build Visualization with Bokeh { display-mode: \"form\" }\n",
        "\n",
        "\n",
        "# test_data = projection_df\n",
        "\n",
        "'''\n",
        "make a cell for the two lines below to have the\n",
        "tst data be either specific rows\n",
        "or specific Genre\n",
        "'''\n",
        "\n",
        "# test_data = current_df_test.loc[current_df_test['Genre'] == 'Rock']\n",
        "# test_data = current_df_test.loc[3000:3699]\n",
        "\n",
        "TITLE = \"SOM Visualization\"\n",
        "TOOLS = \"hover,pan,wheel_zoom,box_zoom,reset,save\"\n",
        "\n",
        "\n",
        "\n",
        "p = figure(tools=TOOLS, toolbar_location=\"above\", title=TITLE)\n",
        "p.toolbar.logo = \"grey\"\n",
        "p.background_fill_color = \"#efefef\"\n",
        "p.xaxis.axis_label = \"X-axis\"\n",
        "p.yaxis.axis_label = \"Y-axis\"\n",
        "p.grid.grid_line_color = \"white\"\n",
        "p.hover.tooltips = [\n",
        "    (field, \"@\" + field),\n",
        "]\n",
        "\n",
        "\n",
        "source = ColumnDataSource(test_data)\n",
        "\n",
        "p.scatter(\"proj_x\", \"proj_y\", size=12, source=source, color=\"colors\",line_color=\"black\", alpha=0.9)\n",
        "\n",
        "labels = LabelSet(x=\"X-axis\", y=\"Y-axis\", text=\"symbol\", y_offset=8,\n",
        "                  text_font_size=\"11px\", text_color=\"#555555\",\n",
        "                  source=source, text_align='center')\n",
        "p.add_layout(labels)\n",
        "\n",
        "# show(p) # won't work in colab 😭\n",
        "# @markdown Type here the name of plot\n",
        "plotname = '0-199.html' #@param {type: \"string\"}\n",
        "# @markdown This will be saved in your GDrive in the same folder where the .pkl files are stored\n",
        "\n",
        "# @markdown `Note that if you use the same file name the previous plot wil be overwritten`\n",
        "output_file(plotname)\n",
        "save(p)\n"
      ]
    },
    {
      "attachments": {},
      "cell_type": "markdown",
      "metadata": {
        "id": "zoQA2OcUJQmL"
      },
      "source": [
        "# Projecting Other Datasets"
      ]
    },
    {
      "cell_type": "code",
      "execution_count": null,
      "metadata": {
        "colab": {
          "base_uri": "https://localhost:8080/"
        },
        "id": "BeMm94seJQmL",
        "outputId": "897a4b7b-e38a-423e-a397-c3eaa27df62c"
      },
      "outputs": [],
      "source": [
        "# @title Prepare the Dataset to be projected\n",
        "# @markdown Select the Dataset to project on the SOM\n",
        "selector = \"xenocanto\" # @param [\"fma\", \"radio\", \"xenocanto\"]\n",
        "projection_df = datasets[selector]\n",
        "projection_features = [np.ravel(item) for item in projection_df['mfcc']]\n",
        "index = 0\n",
        "nan_indexes = []\n",
        "for f in projection_features:\n",
        "    if np.isnan(f)[0] == True:\n",
        "        nan_indexes.append(index)\n",
        "    index+=1\n",
        "\n",
        "print(nan_indexes)\n",
        "\n",
        "projection_df = projection_df.drop(nan_indexes)\n",
        "projection_features = np.delete(projection_features, nan_indexes, axis=0)\n",
        "print(len(projection_features))\n",
        "print(len(projection_df))\n",
        "\n",
        "projection = som.transform(projection_features)\n",
        "X = [x[0] for x in projection]\n",
        "Y = [x[1] for x in projection]\n",
        "\n",
        "projection_df['proj_x'] = X\n",
        "projection_df['proj_y'] = Y\n",
        "proj = [[x[0], x[1]] for x in projection]\n",
        "projection_df['proj'] = proj"
      ]
    },
    {
      "cell_type": "code",
      "execution_count": null,
      "metadata": {
        "colab": {
          "base_uri": "https://localhost:8080/"
        },
        "id": "DERnQzX2XcQM",
        "outputId": "0d3e1e2c-89f0-4759-d9e5-436eae5cc664"
      },
      "outputs": [],
      "source": [
        "# @title List all the Columns of Projection Dataset { display-mode: \"form\" }\n",
        "projection_df.columns.values.tolist()"
      ]
    },
    {
      "cell_type": "code",
      "execution_count": null,
      "metadata": {
        "colab": {
          "base_uri": "https://localhost:8080/"
        },
        "id": "FLrr1Nj2XFSV",
        "outputId": "f05ba84e-3967-4fb7-c157-d14cc186e8a9"
      },
      "outputs": [],
      "source": [
        "# @title Choose the field { display-mode: \"form\" }\n",
        "projection_field = \"en\" # @param {type: \"string\"}\n",
        "\n",
        "# drop all the nans!!!\n",
        "\n",
        "unique_values = projection_df[projection_field].unique()\n",
        "# print(unique_values)\n",
        "palette = build_color_palette(unique_values)\n",
        "assign_colors(projection_df, palette, projection_field)"
      ]
    },
    {
      "cell_type": "code",
      "execution_count": null,
      "metadata": {
        "colab": {
          "base_uri": "https://localhost:8080/",
          "height": 54
        },
        "id": "rE1Kan_lJQmL",
        "outputId": "e9ac2d24-242d-44c4-8196-ef2e616e189b"
      },
      "outputs": [],
      "source": [
        "# @title Build Visualization with Bokeh\n",
        "# add a variable for the header to be used for the labels\n",
        "\n",
        "test_data = projection_df\n",
        "# test_data = current_df_test.loc[current_df_test['Genre'] == 'Rock']\n",
        "# test_data = current_df_test.loc[3000:3699]\n",
        "\n",
        "TITLE = \"SOM Visualization\"\n",
        "TOOLS = \"hover,pan,wheel_zoom,box_zoom,reset,save\"\n",
        "\n",
        "\n",
        "\n",
        "p = figure(tools=TOOLS, toolbar_location=\"above\", width=1200, title=TITLE)\n",
        "p.toolbar.logo = \"grey\"\n",
        "p.background_fill_color = \"#efefef\"\n",
        "p.xaxis.axis_label = \"X-axis\"\n",
        "p.yaxis.axis_label = \"Y-axis\"\n",
        "p.grid.grid_line_color = \"white\"\n",
        "# here we can add more fields to show in bokeh visualization\n",
        "# needs to be added to the side as input param\n",
        "\n",
        "# @markdown `add multiple fields to be shown on hovering as space \" \" separated list`\n",
        "hover_list = 'gen date' # @param {type:\"string\"}\n",
        "hover_list = hover_list.split()\n",
        "hover_list.append(projection_field)\n",
        "hover_list.append('colors')\n",
        "tooltips = []\n",
        "for item in hover_list:\n",
        "  tooltips.append(\n",
        "      (item, \"@\" + item)\n",
        "  )\n",
        "\n",
        "print(tooltips)\n",
        "p.hover.tooltips = [\n",
        "    (projection_field, \"@\" + projection_field),\n",
        "    (\"gen\", \"@gen\"),\n",
        "    (\"date\", \"@date\")\n",
        "]\n",
        "\n",
        "p.hover.tooltips = tooltips\n",
        "\n",
        "\n",
        "source = ColumnDataSource(test_data)\n",
        "\n",
        "p.scatter(\"proj_x\", \"proj_y\", size=12, source=source, color=\"colors\",line_color=\"black\", alpha=0.9)\n",
        "\n",
        "labels = LabelSet(x=\"X-axis\", y=\"Y-axis\", text=\"symbol\", y_offset=8,\n",
        "                  text_font_size=\"11px\", text_color=\"#555555\",\n",
        "                  source=source, text_align='center')\n",
        "p.add_layout(labels)\n",
        "\n",
        "# show(p)\n",
        "# @markdown Type here the name of plot\n",
        "plotname = 'projection_plot.html' #@param {type: \"string\"}\n",
        "# @markdown This will be saved in your GDrive in the same folder where the .pkl files are stored\n",
        "\n",
        "# @markdown `Note that if you use the same file name the previous plot wil be overwritten`\n",
        "output_file(plotname)\n",
        "save(p)\n"
      ]
    }
  ],
  "metadata": {
    "accelerator": "TPU",
    "colab": {
      "provenance": [],
      "toc_visible": true
    },
    "gpuClass": "standard",
    "kernelspec": {
      "display_name": "Python 3",
      "name": "python3"
    },
    "language_info": {
      "codemirror_mode": {
        "name": "ipython",
        "version": 3
      },
      "file_extension": ".py",
      "mimetype": "text/x-python",
      "name": "python",
      "nbconvert_exporter": "python",
      "pygments_lexer": "ipython3",
      "version": "3.11.3"
    }
  },
  "nbformat": 4,
  "nbformat_minor": 0
}
