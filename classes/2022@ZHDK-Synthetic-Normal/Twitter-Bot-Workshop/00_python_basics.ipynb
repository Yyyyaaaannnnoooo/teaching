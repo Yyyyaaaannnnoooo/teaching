{
  "nbformat": 4,
  "nbformat_minor": 0,
  "metadata": {
    "colab": {
      "provenance": []
    },
    "kernelspec": {
      "name": "python3",
      "display_name": "Python 3"
    },
    "language_info": {
      "name": "python"
    },
    "gpuClass": "standard",
    "accelerator": "TPU"
  },
  "cells": [
    {
      "cell_type": "markdown",
      "source": [
        "## Ciao a tutt*\n",
        "\n"
      ],
      "metadata": {
        "id": "WrKVr6JEBWZ0"
      }
    },
    {
      "cell_type": "markdown",
      "source": [
        "keyboard shortcuts\n",
        "\n",
        "cmd [ctrl] + enter => execute content of block\n",
        "\n",
        "cmd + / => comment uncomment code blocks"
      ],
      "metadata": {
        "id": "p_TbjPI2B_mO"
      }
    },
    {
      "cell_type": "markdown",
      "source": [
        "# variables"
      ],
      "metadata": {
        "id": "LcjKXdowBsNh"
      }
    },
    {
      "cell_type": "markdown",
      "source": [
        "## Numbers"
      ],
      "metadata": {
        "id": "ihPQSuswDsWr"
      }
    },
    {
      "cell_type": "code",
      "source": [
        "x = 10\n",
        "y = 20\n",
        "z = 30"
      ],
      "metadata": {
        "id": "hdcLwU2kBvwm"
      },
      "execution_count": null,
      "outputs": []
    },
    {
      "cell_type": "code",
      "source": [
        "from google.colab import drive\n",
        "drive.mount('/content/drive')"
      ],
      "metadata": {
        "id": "hQinh30nrdwe"
      },
      "execution_count": null,
      "outputs": []
    },
    {
      "cell_type": "markdown",
      "source": [
        "# big\n",
        "## less big\n",
        "### lesser big\n",
        "\n",
        "jk`dhf;jsfh\n",
        "\n",
        "`fsgdhlfgslf`\n",
        "\n",
        "```python\n",
        "# this code executes a for loop\n",
        "for i in range(10):\n",
        "  print(i)\n",
        "```"
      ],
      "metadata": {
        "id": "7D5V0dHSqmrV"
      }
    },
    {
      "cell_type": "markdown",
      "source": [
        "\n",
        "basic functions\n",
        "```\n",
        "print(something)\n",
        "```\n",
        "is your best friend\n"
      ],
      "metadata": {
        "id": "EfwO73qCCK_K"
      }
    },
    {
      "cell_type": "code",
      "source": [
        "something = 50"
      ],
      "metadata": {
        "id": "msSXis9vCeP1"
      },
      "execution_count": null,
      "outputs": []
    },
    {
      "cell_type": "code",
      "source": [
        "print(something)"
      ],
      "metadata": {
        "id": "M6yAB6FpCpcy"
      },
      "execution_count": null,
      "outputs": []
    },
    {
      "cell_type": "code",
      "source": [
        "print(x)"
      ],
      "metadata": {
        "id": "sY2oNcXoB1jH"
      },
      "execution_count": null,
      "outputs": []
    },
    {
      "cell_type": "code",
      "source": [
        "print(y)"
      ],
      "metadata": {
        "id": "c1L78k-CB39E"
      },
      "execution_count": null,
      "outputs": []
    },
    {
      "cell_type": "code",
      "source": [
        "print(z)"
      ],
      "metadata": {
        "id": "HIipUOoDB6gY"
      },
      "execution_count": null,
      "outputs": []
    },
    {
      "cell_type": "markdown",
      "source": [
        "what if we want to print the sum of x+y+z"
      ],
      "metadata": {
        "id": "k1Y_WqybC0gv"
      }
    },
    {
      "cell_type": "code",
      "source": [
        "x+y+z"
      ],
      "metadata": {
        "id": "ucuf22llB9RR"
      },
      "execution_count": null,
      "outputs": []
    },
    {
      "cell_type": "code",
      "source": [
        "print(x+y/z)"
      ],
      "metadata": {
        "id": "aRuHS4AjC8u5"
      },
      "execution_count": null,
      "outputs": []
    },
    {
      "cell_type": "markdown",
      "source": [
        "## Strings"
      ],
      "metadata": {
        "id": "FeOOEdNRD2LN"
      }
    },
    {
      "cell_type": "code",
      "source": [
        "string ='I am a string ' + str(10)\n",
        "print(string)\n",
        "string ='I am a string %i' % x\n",
        "print(string)\n",
        "\n",
        "\n",
        "string_1 = 'string one'\n",
        "string_2 = 'string two'\n",
        "\n",
        "string_3 = string_1 + string_2\n",
        "\n"
      ],
      "metadata": {
        "id": "Oudf5iITD1U4"
      },
      "execution_count": null,
      "outputs": []
    },
    {
      "cell_type": "code",
      "source": [
        "print(string_3)"
      ],
      "metadata": {
        "id": "_lZk7YEzEL1o"
      },
      "execution_count": null,
      "outputs": []
    },
    {
      "cell_type": "markdown",
      "source": [
        "Concatenation"
      ],
      "metadata": {
        "id": "5n2ld1ieEjPQ"
      }
    },
    {
      "cell_type": "markdown",
      "source": [
        "Side note: variable names do not like spaces. Therefore you can be creative in the way you create variable names. Comonly it is used camelCase, so to say capitalize the first letter of each word in your variable name.\n",
        "\n",
        "\n",
        "```\n",
        "* camelCase\n",
        "variableNamesCanBeExtremelyLongBecauseTheyNeedToDescribeWhatTheyAre\n",
        "\n",
        "* PascalCase\n",
        "VariableNamesCanBeExtremelyLongBecauseTheyNeedToDescribeWhatTheyAre\n",
        "\n",
        "* snake_case => my favorite\n",
        "variable_names_can_be_extremely_long_because_they_need_to_describe_what_they_are\n",
        "\n",
        "```\n",
        "\n"
      ],
      "metadata": {
        "id": "IjnXizwKEtt_"
      }
    },
    {
      "cell_type": "code",
      "source": [
        "another_string = \"I am another string\"\n",
        "concatenation = string + another_string\n",
        "sg = 56\n",
        "concatenation2 = \"Hi I am string {}\".format(sg)\n",
        "concatenation3 ='I am a string using the old way of formatting %i' % x\n",
        "print(concatenation2)"
      ],
      "metadata": {
        "id": "olExKL_nERmy"
      },
      "execution_count": null,
      "outputs": []
    },
    {
      "cell_type": "code",
      "source": [
        "# but we need some spacing!\n",
        "\n",
        "concatenation = string + \" \" + another_string\n",
        "print(concatenation)"
      ],
      "metadata": {
        "id": "RPzoY-LDFBMH"
      },
      "execution_count": null,
      "outputs": []
    },
    {
      "cell_type": "markdown",
      "source": [
        "## Comments\n",
        "with cmd + /\n",
        "\n",
        "it is possible to comment and un comment lines of code.\n",
        "\n",
        "A comments in python is preceded by the # sign.\n",
        "\n",
        "The most important thing about comments is that they prevent the the interpreter to run that specific portion of text"
      ],
      "metadata": {
        "id": "nes4tidvFjJL"
      }
    },
    {
      "cell_type": "code",
      "source": [
        "# this is a comment\n",
        "# it won't be executed\n",
        "# by the computer\n",
        "but I will and I will cause an error"
      ],
      "metadata": {
        "id": "OD3DBQEEFiij"
      },
      "execution_count": null,
      "outputs": []
    },
    {
      "cell_type": "code",
      "source": [
        "'''\n",
        "multi line comments\n",
        "are also available\n",
        "you just need to wrap\n",
        "your code around the\n",
        "single quote\n",
        "'''"
      ],
      "metadata": {
        "id": "VOoXbcS0FQZN"
      },
      "execution_count": null,
      "outputs": []
    },
    {
      "cell_type": "markdown",
      "source": [
        "# Logic Operations\n",
        "```\n",
        "> greater than\n",
        "< less than\n",
        "== equal\n",
        "!= not equal\n",
        "```"
      ],
      "metadata": {
        "id": "Ggl8VJYlI7xX"
      }
    },
    {
      "cell_type": "code",
      "source": [
        "print(3 <  5)\n",
        "print(3 >  5)\n",
        "print(3 == 5)\n",
        "print(3 != 5)"
      ],
      "metadata": {
        "id": "B6qHrgl5InjP"
      },
      "execution_count": null,
      "outputs": []
    },
    {
      "cell_type": "markdown",
      "source": [
        "## conditional statements\n",
        "\n",
        "Those are block of code that evaluate a logic operation and execute one or another block of code.\n",
        "\n",
        "!! IMPORTANT\n",
        "indentation is the way that the python interpeter knows that it is going to execute th next line of code.\n",
        "\n",
        "It is usually done automatically inside IDE, the editor you use to work with code"
      ],
      "metadata": {
        "id": "kwApOM4kJye-"
      }
    },
    {
      "cell_type": "code",
      "source": [
        "number1 = 10\n",
        "number2 = 4\n",
        "\n",
        "if number1 > number2:\n",
        "  print(str(number1) + \" is greater than \" + str(number2))\n",
        "\n",
        "\n",
        "for i in range(10):\n",
        "  print(i)"
      ],
      "metadata": {
        "id": "UTVLSjmTI5wc"
      },
      "execution_count": null,
      "outputs": []
    },
    {
      "cell_type": "markdown",
      "source": [
        "### DEBUG!!!!\n",
        "debugging is vital and is what most programmer do all the time.\n",
        "\n",
        "first thing to do is to read the error statement\n",
        "\n",
        "second look at which line it points `---->`\n",
        "\n",
        "in this case at line 5\n",
        "\n",
        "and it tells us that there is a type mismatch: Integer numbers not like to be mixed with strings.\n",
        "\n",
        "therefore we need to turn our numbers into strings by wrapping them inside a `str()` operand"
      ],
      "metadata": {
        "id": "5EKhsvC7K7oI"
      }
    },
    {
      "cell_type": "code",
      "source": [
        "number1 = 10\n",
        "number2 = 4\n",
        "\n",
        "if number1 == number2:\n",
        "  print(str(number1)+ \" is greater than \" + str(number2))\n"
      ],
      "metadata": {
        "id": "1toyfX3oKxSY"
      },
      "execution_count": null,
      "outputs": []
    },
    {
      "cell_type": "code",
      "source": [
        "# in order to branch our conditional\n",
        "# we need to add an additional statement\n",
        "# else\n",
        "\n",
        "number1 = 10\n",
        "number2 = 4\n",
        "\n",
        "if number1 < number2:\n",
        "  # True\n",
        "\n",
        "  print(str(number1) + \" is less than \" + str(number2))\n",
        "else:\n",
        "  # False\n",
        "\n",
        "  print(str(number1)+\" is greater than \"+str(number2))"
      ],
      "metadata": {
        "id": "sNWox9pAL054"
      },
      "execution_count": null,
      "outputs": []
    },
    {
      "cell_type": "markdown",
      "source": [
        "### importing libraries\n",
        "\n",
        "Not all functions are directly available, it is needed to import them.\n",
        "\n",
        "In our caser it would be beneficial to have a random number generator; therefore we import him."
      ],
      "metadata": {
        "id": "TmVnQ3jkMkgB"
      }
    },
    {
      "cell_type": "code",
      "source": [
        "# from the library random we import the random integer generator\n",
        "from random import randint\n",
        "import math"
      ],
      "metadata": {
        "id": "ZHvY26GfMR4-"
      },
      "execution_count": null,
      "outputs": []
    },
    {
      "cell_type": "code",
      "source": [
        "randint(0, 100)\n",
        "print(math.sin(30))"
      ],
      "metadata": {
        "id": "FJizv91kNY1l"
      },
      "execution_count": null,
      "outputs": []
    },
    {
      "cell_type": "code",
      "source": [
        "number = randint(1, 10)\n",
        "print(number)\n",
        "if number == 1:\n",
        "  print('number is 1')\n",
        "elif number == 2:\n",
        "  print('number is 2')\n",
        "elif number == 3:\n",
        "  print('number is 3')\n",
        "elif number == 4:\n",
        "  print('number is 4')\n",
        "elif number == 5:\n",
        "  print('number is 5')\n",
        "else:\n",
        "  print('number is bigger than 5')"
      ],
      "metadata": {
        "id": "QcyJrCINN0Rq"
      },
      "execution_count": null,
      "outputs": []
    },
    {
      "cell_type": "markdown",
      "source": [
        "##exercise\n",
        "\n",
        "how can I know whether a random number is even or odd?\n",
        "\n",
        "if it is even it should print:\n",
        "\n",
        "`number n is even`\n",
        "\n",
        "if it is odd it should print:\n",
        "\n",
        "`number n is odd`\n",
        "\n",
        "\n",
        "hint:\n",
        "the `%` operator returns the remainder of a division between integers\n",
        "\n",
        "```\n",
        "5 / 3 = 1 | r:2\n",
        "4 / 3 = 1 | r:1\n",
        "4 / 2 = 2 | r:0\n",
        "```\n",
        "\n"
      ],
      "metadata": {
        "id": "EWwhOEIMpfW_"
      }
    },
    {
      "cell_type": "code",
      "source": [
        "print(5%5)\n",
        "print(5%3)\n",
        "print(5%2)\n",
        "print(5%1)\n",
        "\n",
        "if(5%3 == 2):\n",
        "  print('5 / 3 = ' +str(int(5/3))+ ' | r: ' + str(5%3))"
      ],
      "metadata": {
        "id": "2l-nCRfdpp8f"
      },
      "execution_count": null,
      "outputs": []
    },
    {
      "cell_type": "code",
      "source": [
        "number = randint(0, 1000000)\n",
        "\n",
        "if number % 2 == 0:\n",
        "  print(str(number) + ' is even!')\n",
        "else:\n",
        "  print(str(number) + ' is odd!')"
      ],
      "metadata": {
        "id": "4gBoNvvKqg_s"
      },
      "execution_count": null,
      "outputs": []
    },
    {
      "cell_type": "markdown",
      "source": [
        "# Functions"
      ],
      "metadata": {
        "id": "kzk9Tez2YLh5"
      }
    },
    {
      "cell_type": "code",
      "source": [
        "def is_it_even(number):\n",
        "  if number % 2 == 0:\n",
        "    print(str(number) + ' is even!')\n",
        "  else:\n",
        "    print(str(number) + ' is odd!')"
      ],
      "metadata": {
        "id": "kcKdoJMrYK_1"
      },
      "execution_count": null,
      "outputs": []
    },
    {
      "cell_type": "code",
      "source": [
        "is_it_even(44)"
      ],
      "metadata": {
        "id": "qWnqMocwa5U6"
      },
      "execution_count": null,
      "outputs": []
    },
    {
      "cell_type": "markdown",
      "source": [
        "# Loops\n",
        "loops repeat a block of code for defined number of times.\n",
        "\n",
        "!!! IMPORTANT\n",
        "again keep in mind indentation"
      ],
      "metadata": {
        "id": "i3Yb6SlpQtq1"
      }
    },
    {
      "cell_type": "code",
      "source": [
        "for i in range(10.2, 10.20, 0.3):\n",
        "  print(i)"
      ],
      "metadata": {
        "id": "mUNbopW1Q1-k"
      },
      "execution_count": null,
      "outputs": []
    },
    {
      "cell_type": "code",
      "source": [],
      "metadata": {
        "id": "djkSVPCpR_ni"
      },
      "execution_count": null,
      "outputs": []
    },
    {
      "cell_type": "markdown",
      "source": [
        "# Lists\n",
        "\n",
        "list exist within `[]` square brackets"
      ],
      "metadata": {
        "id": "TaBMHfEjQcgo"
      }
    },
    {
      "cell_type": "code",
      "source": [
        "my_list = [10, 2, 3, 4, 53, 6, 7, 83, 9, 10]\n",
        "print(my_list)"
      ],
      "metadata": {
        "id": "lS0ybUBntymy"
      },
      "execution_count": null,
      "outputs": []
    },
    {
      "cell_type": "code",
      "source": [
        "my_list[4]"
      ],
      "metadata": {
        "id": "tUW8pL6qhv3V"
      },
      "execution_count": null,
      "outputs": []
    },
    {
      "cell_type": "code",
      "source": [
        "# to add an element you need to append it to the list\n",
        "\n",
        "addition = [11, 12, 13, 14]\n",
        "\n",
        "final_list = my_list + addition\n",
        "\n",
        "print(final_list)\n"
      ],
      "metadata": {
        "id": "upqkW-ZwP7XU"
      },
      "execution_count": null,
      "outputs": []
    },
    {
      "cell_type": "code",
      "source": [
        "for i in range(len(my_list)):\n",
        "  print(\"index is %i\" %i, \"number is {}\".format(my_list[i]) )"
      ],
      "metadata": {
        "id": "MQC_SgaXlo-i"
      },
      "execution_count": null,
      "outputs": []
    },
    {
      "cell_type": "markdown",
      "source": [
        "## Dot functions\n",
        "\n",
        "variables have hidden functions that can be accessed with the `.`.\n",
        "\n",
        "for example lists have the `.append()` method that allow to add elements to the list.\n",
        "\n"
      ],
      "metadata": {
        "id": "P1A9eMkaswJZ"
      }
    },
    {
      "cell_type": "code",
      "source": [
        "my_list_2 = [7, 13, 5, 7]\n",
        "my_list.append(my_list_2)\n",
        "print(my_list)"
      ],
      "metadata": {
        "id": "Na8nx9Ylt3Z0"
      },
      "execution_count": null,
      "outputs": []
    },
    {
      "cell_type": "code",
      "source": [
        "# print single elemnts of a list\n",
        "index = 0\n",
        "for numbers in my_list:\n",
        "  print(numbers, index)\n",
        "  index += 1"
      ],
      "metadata": {
        "id": "4PyyYlLft7cz"
      },
      "execution_count": null,
      "outputs": []
    },
    {
      "cell_type": "markdown",
      "source": [
        "### Exercise\n",
        "\n",
        "make a list of 10 random numbers"
      ],
      "metadata": {
        "id": "_COfnXnHuUgr"
      }
    },
    {
      "cell_type": "code",
      "source": [
        "[34, 5, 67, 82, 3, 54, 44, 2, 1, 34]"
      ],
      "metadata": {
        "id": "yMnX6NAcuRf4"
      },
      "execution_count": null,
      "outputs": []
    },
    {
      "cell_type": "markdown",
      "source": [
        "# Terminal Commands\n",
        "\n",
        "this commands are always preceded by `!`\n",
        "\n",
        "except for `cd` that requires to be precede by `%`\n"
      ],
      "metadata": {
        "id": "CXh-jqdRQTfK"
      }
    },
    {
      "cell_type": "code",
      "source": [
        "# @title Print Working Directory aka pwd\n",
        "\n",
        "!pwd"
      ],
      "metadata": {
        "id": "x314xPixgR_B"
      },
      "execution_count": null,
      "outputs": []
    },
    {
      "cell_type": "code",
      "source": [
        "# @title List items in current directory\n",
        "\n",
        "!ls"
      ],
      "metadata": {
        "id": "atzmPJUhgaKd"
      },
      "execution_count": null,
      "outputs": []
    },
    {
      "cell_type": "code",
      "source": [
        "# @title Move to specific path do not forget to use %\n",
        "%cd sample_data/\n"
      ],
      "metadata": {
        "id": "uVC3jzgmP9q7"
      },
      "execution_count": null,
      "outputs": []
    },
    {
      "cell_type": "code",
      "source": [
        "# print its content again\n",
        "!ls\n"
      ],
      "metadata": {
        "id": "noTQn2nse_hD"
      },
      "execution_count": null,
      "outputs": []
    },
    {
      "cell_type": "code",
      "source": [
        "# go one folder back / upstream\n",
        "%cd ../"
      ],
      "metadata": {
        "id": "zJJMQPM7sOWH"
      },
      "execution_count": null,
      "outputs": []
    },
    {
      "cell_type": "code",
      "source": [
        "import pandas as pd\n",
        "df1 = pd.read_csv(\"california_housing_train.csv\")\n",
        "print(df1)"
      ],
      "metadata": {
        "id": "hWsxraXvvzqF"
      },
      "execution_count": null,
      "outputs": []
    },
    {
      "cell_type": "code",
      "source": [
        "# @title Create a file\n",
        "!touch empty_image.png\n",
        "!ls"
      ],
      "metadata": {
        "id": "KojO0lz8fB3_"
      },
      "execution_count": null,
      "outputs": []
    },
    {
      "cell_type": "code",
      "source": [
        "# Create a Directory\n",
        "!mkdir image_container # NO WHITE SPACES!\n",
        "!ls"
      ],
      "metadata": {
        "id": "368zagm7hAWg"
      },
      "execution_count": null,
      "outputs": []
    },
    {
      "cell_type": "markdown",
      "source": [
        "## Exercise\n",
        "\n",
        "Go to parent folder using `cd`, this time use the `../` notation tom tell the machine to go one folder back. Once there use `pwd` it should print `/content/`. Once there make a new folder, we will use it later.\n",
        "\n"
      ],
      "metadata": {
        "id": "JjUW-KRUhXfM"
      }
    },
    {
      "cell_type": "code",
      "source": [],
      "metadata": {
        "id": "WVUJ6-oehRaM"
      },
      "execution_count": null,
      "outputs": []
    },
    {
      "cell_type": "markdown",
      "source": [
        "## Terminal is also useful for installing libraries\n",
        "Useful for installing additional packages to python\n",
        "\n",
        "`!pip install numpy` <= to install the numpy library\n",
        "\n",
        "`!pip install pillow` <= this installs the Pillow library"
      ],
      "metadata": {
        "id": "JAumGO2dgxyk"
      }
    },
    {
      "cell_type": "code",
      "source": [
        "# @title Install Libraries\n",
        "!pip install numpy\n",
        "!pip install pillow"
      ],
      "metadata": {
        "id": "Rq2lHxhkiqiJ"
      },
      "execution_count": null,
      "outputs": []
    },
    {
      "cell_type": "code",
      "source": [
        "# @title Let's generate some images\n",
        "\n",
        "# import libraries into pyhton\n",
        "\n",
        "import numpy as np\n",
        "from PIL import Image as im\n",
        "\n",
        "\n",
        "\n",
        "# create a numpy array from scratch\n",
        "# using arange function.\n",
        "# w x h = the amount\n",
        "# of pixels.\n",
        "# np.uint8 is a data type containing\n",
        "# numbers ranging from 0 to 255\n",
        "# and no non-negative integers\n",
        "w = 512\n",
        "h = 512\n",
        "pixels = w * h\n",
        "\n",
        "# make a numpy array of random values\n",
        "array = np.random.randint(low=0, high=255, size=pixels, dtype=np.uint8)\n",
        "\n",
        "# Reshape the array into a\n",
        "# familiar resoluition\n",
        "array = np.reshape(array, (w, h))\n",
        "\n",
        "# creating image object of\n",
        "# above array\n",
        "data = im.fromarray(array)\n",
        "\n",
        "# saving the final output\n",
        "# as a PNG file\n",
        "data.save('gfg_dummy_pic.png')\n",
        "\n"
      ],
      "metadata": {
        "id": "YBT8dxKAjPdS"
      },
      "execution_count": null,
      "outputs": []
    },
    {
      "cell_type": "code",
      "source": [
        "from matplotlib import pyplot as plt\n",
        "myImg = '/content/sample_data/gfg_dummy_pic.png'\n",
        "image = plt.imread(myImg)\n",
        "plt.imshow(image)\n",
        "plt.axis(\"off\")\n",
        "plt.show()"
      ],
      "metadata": {
        "id": "KB8AII7C1LaM"
      },
      "execution_count": null,
      "outputs": []
    },
    {
      "cell_type": "markdown",
      "source": [
        "## Exercise\n",
        "\n",
        "generate 10 images, and save them into the previously generated folder.\n",
        "\n",
        "`Hint 1: ` saving with the same name will result in overwriting the image\n",
        "\n",
        "`Hint 2:` `data.save` takes a path as argument\n",
        "\n",
        "`Hint 3:` it is also always possible to `cd` into the image folder"
      ],
      "metadata": {
        "id": "5SI4aNaWqFnh"
      }
    },
    {
      "cell_type": "code",
      "source": [
        "%cd ../\n",
        "\n",
        "%cd /content\n",
        "!mkdir images\n",
        "%cd images\n",
        "!pwd"
      ],
      "metadata": {
        "id": "a4h2RARZ71nz"
      },
      "execution_count": null,
      "outputs": []
    },
    {
      "cell_type": "code",
      "source": [
        "\n",
        "import numpy as np\n",
        "from PIL import Image as im\n",
        "from matplotlib import pyplot as plt\n",
        "\n",
        "w = 16\n",
        "h = 16\n",
        "pixels = w * h\n",
        "\n",
        "for i in range(10):\n",
        "  array = np.random.randint(low=0, high=255, size=pixels, dtype=np.uint8)\n",
        "\n",
        "        # Reshape the array into a\n",
        "        # familiar resoluition\n",
        "  array = np.reshape(array, (w, h))\n",
        "\n",
        "        # creating image object of\n",
        "        # above array\n",
        "  data = im.fromarray(array)\n",
        "\n",
        "        # saving the final output\n",
        "        # as a PNG file\n",
        "  data.save('/pic%i.png' % i)\n",
        "\n",
        "\n",
        "\n",
        "\n",
        "def showImgs():\n",
        "  for j in range(10):\n",
        "    myImg = '/pic%i.png' % i\n",
        "    image = plt.imread(myImg)\n",
        "    plt.gray()\n",
        "    plt.imshow(image)\n",
        "    plt.axis(\"off\")\n",
        "    plt.show()\n",
        "\n",
        "showImgs()"
      ],
      "metadata": {
        "id": "xb4qIsLVq0Da"
      },
      "execution_count": null,
      "outputs": []
    }
  ]
}